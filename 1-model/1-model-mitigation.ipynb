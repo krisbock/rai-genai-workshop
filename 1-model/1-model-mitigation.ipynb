{
 "cells": [
  {
   "cell_type": "markdown",
   "metadata": {},
   "source": [
    "### Load environment variables"
   ]
  },
  {
   "cell_type": "code",
   "execution_count": 1,
   "metadata": {},
   "outputs": [
    {
     "data": {
      "text/plain": [
       "True"
      ]
     },
     "execution_count": 1,
     "metadata": {},
     "output_type": "execute_result"
    }
   ],
   "source": [
    "from dotenv import load_dotenv\n",
    "import os\n",
    "load_dotenv('../.env')"
   ]
  },
  {
   "cell_type": "markdown",
   "metadata": {},
   "source": [
    "### Create AI client to connect to Studio"
   ]
  },
  {
   "cell_type": "code",
   "execution_count": 2,
   "metadata": {},
   "outputs": [
    {
     "name": "stderr",
     "output_type": "stream",
     "text": [
      "Class AIClient: This is an experimental class, and may change at any time. Please see https://aka.ms/azuremlexperimental for more information.\n"
     ]
    }
   ],
   "source": [
    "from azure.identity import DefaultAzureCredential\n",
    "from azure.ai.resources.client import AIClient\n",
    "\n",
    "credential = DefaultAzureCredential(exclude_shared_token_cache_credential=True)\n",
    "\n",
    "try:\n",
    "    client = AIClient.from_config(credential)\n",
    "except Exception as ex:\n",
    "    print(ex)\n",
    "    # Enter details of your AML workspace\n",
    "    client = AIClient(credential=DefaultAzureCredential(), subscription_id=os.getenv(\"SUBSCRIPTION_ID\"),\n",
    "                   resource_group_name=os.getenv(\"RESOURCE_GROUP_NAME\"), project_name=os.getenv(\"PROJECT_NAME\"))"
   ]
  },
  {
   "cell_type": "markdown",
   "metadata": {},
   "source": [
    "### Load the dataset"
   ]
  },
  {
   "cell_type": "code",
   "execution_count": 3,
   "metadata": {},
   "outputs": [],
   "source": [
    "import json\n",
    "def load_jsonl(path):\n",
    "    with open(path, \"r\") as f:\n",
    "        return [json.loads(line) for line in f.readlines()]\n",
    "    \n",
    "mydata = load_jsonl('../data/evaluation_dataset.jsonl')"
   ]
  },
  {
   "cell_type": "code",
   "execution_count": 4,
   "metadata": {},
   "outputs": [],
   "source": [
    "# create directory for output\n",
    "output_dir = '../data/evaluate/aoai/'\n",
    "os.makedirs(output_dir, exist_ok=True)"
   ]
  },
  {
   "cell_type": "markdown",
   "metadata": {},
   "source": [
    "### Evaluate Azure OpenAI using RAG (index created in setup)"
   ]
  },
  {
   "cell_type": "code",
   "execution_count": 6,
   "metadata": {},
   "outputs": [
    {
     "name": "stderr",
     "output_type": "stream",
     "text": [
      "/home/krbock/miniconda3/envs/azure_ai/lib/python3.10/site-packages/promptflow/_sdk/operations/_local_storage_operations.py:486: FutureWarning: Setting an item of incompatible dtype is deprecated and will raise an error in a future version of pandas. Value '(Failed)' has dtype incompatible with float64, please explicitly cast to a compatible dtype first.\n",
      "  outputs.fillna(value=\"(Failed)\", inplace=True)  # replace nan with explicit prompt\n"
     ]
    }
   ],
   "source": [
    "from azure.ai.generative.evaluate import evaluate\n",
    "\n",
    "result = evaluate( \n",
    "    evaluation_name=\"azure-openai-qa-eval\", #name your evaluation to view in AI Studio\n",
    "    data=mydata, # data to be evaluated\n",
    "    task_type=\"qa\", # for different task types, different metrics are available\n",
    "    metrics_list=[\"gpt_groundedness\", \"gpt_relevance\", \"gpt_coherence\", \"gpt_fluency\", \"gpt_similarity\"], #optional superset over default set of metrics\n",
    "    model_config= { #for AI-assisted metrics, need to hook up AOAI GPT model for doing the measurement\n",
    "            \"api_version\": \"2023-05-15\",\n",
    "            \"api_base\": os.getenv(\"AZURE_OPENAI_ENDPOINT\"),\n",
    "            \"api_type\": \"azure\",\n",
    "            \"api_key\": os.getenv(\"AZURE_OPENAI_KEY\"),\n",
    "            \"deployment_id\": os.getenv(\"AZURE_OPENAI_EVALUATION_DEPLOYMENT\")\n",
    "    },\n",
    "    data_mapping={\n",
    "        \"questions\":\"question\", #column of data providing input to model\n",
    "        \"contexts\":\"context\", #column of data providing context for each input\n",
    "        \"answer\":\"answer\", #column of data providing output from model\n",
    "        \"ground_truth\":\"groundtruth\" #column of data providing ground truth answer, optional for default metrics\n",
    "        },\n",
    "        output_path=output_dir, #optional: save output artifacts to local folder path \n",
    "    tracking_uri=client.tracking_uri, #optional: if configured with AI client, evaluation gets logged to AI Studio   \n",
    ")\n"
   ]
  },
  {
   "cell_type": "code",
   "execution_count": 13,
   "metadata": {},
   "outputs": [
    {
     "name": "stdout",
     "output_type": "stream",
     "text": [
      "{'gpt_coherence': 5.0, 'gpt_similarity': nan, 'gpt_fluency': 5.0, 'gpt_relevance': 5.0, 'gpt_groundedness': 5.0}\n"
     ]
    }
   ],
   "source": [
    "# Show average results\n",
    "print(result._metrics_summary)"
   ]
  },
  {
   "cell_type": "code",
   "execution_count": 12,
   "metadata": {},
   "outputs": [
    {
     "name": "stdout",
     "output_type": "stream",
     "text": [
      "https://ai.azure.com/build/evaluation/13d44513-6a55-4f4b-ae9e-926284ed93d3?wsid=/subscriptions/3c8972d9-f541-46b2-b70b-d81baba3595d/resourceGroups/aistudio-rg/providers/Microsoft.MachineLearningServices/workspaces/aistudio-ai-aiproj\n"
     ]
    }
   ],
   "source": [
    "print(result.studio_url)"
   ]
  },
  {
   "cell_type": "markdown",
   "metadata": {},
   "source": [
    "### Repeat, but this time with another model"
   ]
  },
  {
   "cell_type": "code",
   "execution_count": null,
   "metadata": {},
   "outputs": [],
   "source": [
    "from azure.ai.generative.evaluate import evaluate\n",
    "\n",
    "result = evaluate( \n",
    "    evaluation_name=\"azure-phi2-qa-eval\", #name your evaluation to view in AI Studio\n",
    "    data=mydata, # data to be evaluated\n",
    "    task_type=\"qa\", # for different task types, different metrics are available\n",
    "    metrics_list=[\"gpt_groundedness\", \"gpt_relevance\", \"gpt_coherence\", \"gpt_fluency\", \"gpt_similarity\"], #optional superset over default set of metrics\n",
    "    model_config= { #for AI-assisted metrics, need to hook up AOAI GPT model for doing the measurement\n",
    "            \"api_version\": \"2023-05-15\",\n",
    "            \"api_base\": os.getenv(\"AZURE_OPENAI_ENDPOINT\"),\n",
    "            \"api_type\": \"azure\",\n",
    "            \"api_key\": os.getenv(\"AZURE_OPENAI_KEY\"),\n",
    "            \"deployment_id\": os.getenv(\"AZURE_OPENAI_EVALUATION_DEPLOYMENT\")\n",
    "    },\n",
    "    data_mapping={\n",
    "        \"questions\":\"question\", #column of data providing input to model\n",
    "        \"contexts\":\"context\", #column of data providing context for each input\n",
    "        \"answer\":\"answer\", #column of data providing output from model\n",
    "        \"ground_truth\":\"groundtruth\" #column of data providing ground truth answer, optional for default metrics\n",
    "        },\n",
    "        output_path=output_dir, #optional: save output artifacts to local folder path \n",
    "    tracking_uri=client.tracking_uri, #optional: if configured with AI client, evaluation gets logged to AI Studio   \n",
    ")\n"
   ]
  }
 ],
 "metadata": {
  "kernelspec": {
   "display_name": "azure_ai",
   "language": "python",
   "name": "python3"
  },
  "language_info": {
   "codemirror_mode": {
    "name": "ipython",
    "version": 3
   },
   "file_extension": ".py",
   "mimetype": "text/x-python",
   "name": "python",
   "nbconvert_exporter": "python",
   "pygments_lexer": "ipython3",
   "version": "3.10.13"
  }
 },
 "nbformat": 4,
 "nbformat_minor": 2
}
